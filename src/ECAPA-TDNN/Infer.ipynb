{
 "cells": [
  {
   "cell_type": "code",
   "execution_count": 1,
   "metadata": {},
   "outputs": [
    {
     "name": "stderr",
     "output_type": "stream",
     "text": [
      "/home/dungnasa/anaconda3/envs/amsv/lib/python3.8/site-packages/tqdm/auto.py:22: TqdmWarning: IProgress not found. Please update jupyter and ipywidgets. See https://ipywidgets.readthedocs.io/en/stable/user_install.html\n",
      "  from .autonotebook import tqdm as notebook_tqdm\n"
     ]
    }
   ],
   "source": [
    "import torch\n",
    "from torch.nn import CosineSimilarity\n",
    "from model import ECAPA_TDNN\n",
    "from ECAPAModel import ECAPAModel\n",
    "import soundfile\n",
    "import os\n",
    "import numpy as np\n",
    "from torch.nn import functional as F"
   ]
  },
  {
   "cell_type": "code",
   "execution_count": 2,
   "metadata": {},
   "outputs": [],
   "source": [
    "# Create test_list.tsv\n",
    "with open(\"../../data/Test/test_list.tsv\", 'w') as f_write:\n",
    "    f_write.writelines([\"common_voice_vi_24476184.wav\\tcommon_voice_vi_24388665.wav\\n\", \"common_voice_vi_23926783.wav\\tcommon_voice_vi_23847785.wav\\n\"])"
   ]
  },
  {
   "cell_type": "code",
   "execution_count": 3,
   "metadata": {},
   "outputs": [],
   "source": [
    "# load params\n",
    "def load_parameters(self, path):\n",
    "    self_state = self.state_dict()\n",
    "    loaded_state = torch.load(path)\n",
    "    for name, param in loaded_state.items():\n",
    "        origname = name\n",
    "        if name not in self_state:\n",
    "            name = name.replace(\"speaker_encoder.\", \"\")\n",
    "            if name not in self_state:\n",
    "                print(\"%s is not in the model.\"%origname)\n",
    "                continue\n",
    "        if self_state[name].size() != loaded_state[origname].size():\n",
    "            print(\"Wrong parameter length: %s, model: %s, loaded: %s\"%(origname, self_state[name].size(), loaded_state[origname].size()))\n",
    "            continue\n",
    "        self_state[name].copy_(param)"
   ]
  },
  {
   "cell_type": "code",
   "execution_count": 4,
   "metadata": {},
   "outputs": [
    {
     "data": {
      "text/plain": [
       "<bound method Module.parameters of ECAPA_TDNN(\n",
       "  (torchfbank): Sequential(\n",
       "    (0): PreEmphasis()\n",
       "    (1): MelSpectrogram(\n",
       "      (spectrogram): Spectrogram()\n",
       "      (mel_scale): MelScale()\n",
       "    )\n",
       "  )\n",
       "  (specaug): FbankAug()\n",
       "  (conv1): Conv1d(80, 1024, kernel_size=(5,), stride=(1,), padding=(2,))\n",
       "  (relu): ReLU()\n",
       "  (bn1): BatchNorm1d(1024, eps=1e-05, momentum=0.1, affine=True, track_running_stats=True)\n",
       "  (layer1): Bottle2neck(\n",
       "    (conv1): Conv1d(1024, 1024, kernel_size=(1,), stride=(1,))\n",
       "    (bn1): BatchNorm1d(1024, eps=1e-05, momentum=0.1, affine=True, track_running_stats=True)\n",
       "    (convs): ModuleList(\n",
       "      (0): Conv1d(128, 128, kernel_size=(3,), stride=(1,), padding=(2,), dilation=(2,))\n",
       "      (1): Conv1d(128, 128, kernel_size=(3,), stride=(1,), padding=(2,), dilation=(2,))\n",
       "      (2): Conv1d(128, 128, kernel_size=(3,), stride=(1,), padding=(2,), dilation=(2,))\n",
       "      (3): Conv1d(128, 128, kernel_size=(3,), stride=(1,), padding=(2,), dilation=(2,))\n",
       "      (4): Conv1d(128, 128, kernel_size=(3,), stride=(1,), padding=(2,), dilation=(2,))\n",
       "      (5): Conv1d(128, 128, kernel_size=(3,), stride=(1,), padding=(2,), dilation=(2,))\n",
       "      (6): Conv1d(128, 128, kernel_size=(3,), stride=(1,), padding=(2,), dilation=(2,))\n",
       "    )\n",
       "    (bns): ModuleList(\n",
       "      (0): BatchNorm1d(128, eps=1e-05, momentum=0.1, affine=True, track_running_stats=True)\n",
       "      (1): BatchNorm1d(128, eps=1e-05, momentum=0.1, affine=True, track_running_stats=True)\n",
       "      (2): BatchNorm1d(128, eps=1e-05, momentum=0.1, affine=True, track_running_stats=True)\n",
       "      (3): BatchNorm1d(128, eps=1e-05, momentum=0.1, affine=True, track_running_stats=True)\n",
       "      (4): BatchNorm1d(128, eps=1e-05, momentum=0.1, affine=True, track_running_stats=True)\n",
       "      (5): BatchNorm1d(128, eps=1e-05, momentum=0.1, affine=True, track_running_stats=True)\n",
       "      (6): BatchNorm1d(128, eps=1e-05, momentum=0.1, affine=True, track_running_stats=True)\n",
       "    )\n",
       "    (conv3): Conv1d(1024, 1024, kernel_size=(1,), stride=(1,))\n",
       "    (bn3): BatchNorm1d(1024, eps=1e-05, momentum=0.1, affine=True, track_running_stats=True)\n",
       "    (relu): ReLU()\n",
       "    (se): SEModule(\n",
       "      (se): Sequential(\n",
       "        (0): AdaptiveAvgPool1d(output_size=1)\n",
       "        (1): Conv1d(1024, 128, kernel_size=(1,), stride=(1,))\n",
       "        (2): ReLU()\n",
       "        (3): Conv1d(128, 1024, kernel_size=(1,), stride=(1,))\n",
       "        (4): Sigmoid()\n",
       "      )\n",
       "    )\n",
       "  )\n",
       "  (layer2): Bottle2neck(\n",
       "    (conv1): Conv1d(1024, 1024, kernel_size=(1,), stride=(1,))\n",
       "    (bn1): BatchNorm1d(1024, eps=1e-05, momentum=0.1, affine=True, track_running_stats=True)\n",
       "    (convs): ModuleList(\n",
       "      (0): Conv1d(128, 128, kernel_size=(3,), stride=(1,), padding=(3,), dilation=(3,))\n",
       "      (1): Conv1d(128, 128, kernel_size=(3,), stride=(1,), padding=(3,), dilation=(3,))\n",
       "      (2): Conv1d(128, 128, kernel_size=(3,), stride=(1,), padding=(3,), dilation=(3,))\n",
       "      (3): Conv1d(128, 128, kernel_size=(3,), stride=(1,), padding=(3,), dilation=(3,))\n",
       "      (4): Conv1d(128, 128, kernel_size=(3,), stride=(1,), padding=(3,), dilation=(3,))\n",
       "      (5): Conv1d(128, 128, kernel_size=(3,), stride=(1,), padding=(3,), dilation=(3,))\n",
       "      (6): Conv1d(128, 128, kernel_size=(3,), stride=(1,), padding=(3,), dilation=(3,))\n",
       "    )\n",
       "    (bns): ModuleList(\n",
       "      (0): BatchNorm1d(128, eps=1e-05, momentum=0.1, affine=True, track_running_stats=True)\n",
       "      (1): BatchNorm1d(128, eps=1e-05, momentum=0.1, affine=True, track_running_stats=True)\n",
       "      (2): BatchNorm1d(128, eps=1e-05, momentum=0.1, affine=True, track_running_stats=True)\n",
       "      (3): BatchNorm1d(128, eps=1e-05, momentum=0.1, affine=True, track_running_stats=True)\n",
       "      (4): BatchNorm1d(128, eps=1e-05, momentum=0.1, affine=True, track_running_stats=True)\n",
       "      (5): BatchNorm1d(128, eps=1e-05, momentum=0.1, affine=True, track_running_stats=True)\n",
       "      (6): BatchNorm1d(128, eps=1e-05, momentum=0.1, affine=True, track_running_stats=True)\n",
       "    )\n",
       "    (conv3): Conv1d(1024, 1024, kernel_size=(1,), stride=(1,))\n",
       "    (bn3): BatchNorm1d(1024, eps=1e-05, momentum=0.1, affine=True, track_running_stats=True)\n",
       "    (relu): ReLU()\n",
       "    (se): SEModule(\n",
       "      (se): Sequential(\n",
       "        (0): AdaptiveAvgPool1d(output_size=1)\n",
       "        (1): Conv1d(1024, 128, kernel_size=(1,), stride=(1,))\n",
       "        (2): ReLU()\n",
       "        (3): Conv1d(128, 1024, kernel_size=(1,), stride=(1,))\n",
       "        (4): Sigmoid()\n",
       "      )\n",
       "    )\n",
       "  )\n",
       "  (layer3): Bottle2neck(\n",
       "    (conv1): Conv1d(1024, 1024, kernel_size=(1,), stride=(1,))\n",
       "    (bn1): BatchNorm1d(1024, eps=1e-05, momentum=0.1, affine=True, track_running_stats=True)\n",
       "    (convs): ModuleList(\n",
       "      (0): Conv1d(128, 128, kernel_size=(3,), stride=(1,), padding=(4,), dilation=(4,))\n",
       "      (1): Conv1d(128, 128, kernel_size=(3,), stride=(1,), padding=(4,), dilation=(4,))\n",
       "      (2): Conv1d(128, 128, kernel_size=(3,), stride=(1,), padding=(4,), dilation=(4,))\n",
       "      (3): Conv1d(128, 128, kernel_size=(3,), stride=(1,), padding=(4,), dilation=(4,))\n",
       "      (4): Conv1d(128, 128, kernel_size=(3,), stride=(1,), padding=(4,), dilation=(4,))\n",
       "      (5): Conv1d(128, 128, kernel_size=(3,), stride=(1,), padding=(4,), dilation=(4,))\n",
       "      (6): Conv1d(128, 128, kernel_size=(3,), stride=(1,), padding=(4,), dilation=(4,))\n",
       "    )\n",
       "    (bns): ModuleList(\n",
       "      (0): BatchNorm1d(128, eps=1e-05, momentum=0.1, affine=True, track_running_stats=True)\n",
       "      (1): BatchNorm1d(128, eps=1e-05, momentum=0.1, affine=True, track_running_stats=True)\n",
       "      (2): BatchNorm1d(128, eps=1e-05, momentum=0.1, affine=True, track_running_stats=True)\n",
       "      (3): BatchNorm1d(128, eps=1e-05, momentum=0.1, affine=True, track_running_stats=True)\n",
       "      (4): BatchNorm1d(128, eps=1e-05, momentum=0.1, affine=True, track_running_stats=True)\n",
       "      (5): BatchNorm1d(128, eps=1e-05, momentum=0.1, affine=True, track_running_stats=True)\n",
       "      (6): BatchNorm1d(128, eps=1e-05, momentum=0.1, affine=True, track_running_stats=True)\n",
       "    )\n",
       "    (conv3): Conv1d(1024, 1024, kernel_size=(1,), stride=(1,))\n",
       "    (bn3): BatchNorm1d(1024, eps=1e-05, momentum=0.1, affine=True, track_running_stats=True)\n",
       "    (relu): ReLU()\n",
       "    (se): SEModule(\n",
       "      (se): Sequential(\n",
       "        (0): AdaptiveAvgPool1d(output_size=1)\n",
       "        (1): Conv1d(1024, 128, kernel_size=(1,), stride=(1,))\n",
       "        (2): ReLU()\n",
       "        (3): Conv1d(128, 1024, kernel_size=(1,), stride=(1,))\n",
       "        (4): Sigmoid()\n",
       "      )\n",
       "    )\n",
       "  )\n",
       "  (layer4): Conv1d(3072, 1536, kernel_size=(1,), stride=(1,))\n",
       "  (attention): Sequential(\n",
       "    (0): Conv1d(4608, 256, kernel_size=(1,), stride=(1,))\n",
       "    (1): ReLU()\n",
       "    (2): BatchNorm1d(256, eps=1e-05, momentum=0.1, affine=True, track_running_stats=True)\n",
       "    (3): Tanh()\n",
       "    (4): Conv1d(256, 1536, kernel_size=(1,), stride=(1,))\n",
       "    (5): Softmax(dim=2)\n",
       "  )\n",
       "  (bn5): BatchNorm1d(3072, eps=1e-05, momentum=0.1, affine=True, track_running_stats=True)\n",
       "  (fc6): Linear(in_features=3072, out_features=192, bias=True)\n",
       "  (bn6): BatchNorm1d(192, eps=1e-05, momentum=0.1, affine=True, track_running_stats=True)\n",
       ")>"
      ]
     },
     "execution_count": 4,
     "metadata": {},
     "output_type": "execute_result"
    }
   ],
   "source": [
    "speaker_encoder = ECAPA_TDNN(C=1024)\n",
    "speaker_encoder.parameters"
   ]
  },
  {
   "cell_type": "code",
   "execution_count": 5,
   "metadata": {},
   "outputs": [
    {
     "name": "stdout",
     "output_type": "stream",
     "text": [
      "speaker_loss.weight is not in the model.\n"
     ]
    }
   ],
   "source": [
    "load_parameters(speaker_encoder, \"../../output/model/model_0030.model\")"
   ]
  },
  {
   "cell_type": "code",
   "execution_count": 6,
   "metadata": {},
   "outputs": [
    {
     "name": "stdout",
     "output_type": "stream",
     "text": [
      "cuda:0\n"
     ]
    },
    {
     "data": {
      "text/plain": [
       "ECAPA_TDNN(\n",
       "  (torchfbank): Sequential(\n",
       "    (0): PreEmphasis()\n",
       "    (1): MelSpectrogram(\n",
       "      (spectrogram): Spectrogram()\n",
       "      (mel_scale): MelScale()\n",
       "    )\n",
       "  )\n",
       "  (specaug): FbankAug()\n",
       "  (conv1): Conv1d(80, 1024, kernel_size=(5,), stride=(1,), padding=(2,))\n",
       "  (relu): ReLU()\n",
       "  (bn1): BatchNorm1d(1024, eps=1e-05, momentum=0.1, affine=True, track_running_stats=True)\n",
       "  (layer1): Bottle2neck(\n",
       "    (conv1): Conv1d(1024, 1024, kernel_size=(1,), stride=(1,))\n",
       "    (bn1): BatchNorm1d(1024, eps=1e-05, momentum=0.1, affine=True, track_running_stats=True)\n",
       "    (convs): ModuleList(\n",
       "      (0): Conv1d(128, 128, kernel_size=(3,), stride=(1,), padding=(2,), dilation=(2,))\n",
       "      (1): Conv1d(128, 128, kernel_size=(3,), stride=(1,), padding=(2,), dilation=(2,))\n",
       "      (2): Conv1d(128, 128, kernel_size=(3,), stride=(1,), padding=(2,), dilation=(2,))\n",
       "      (3): Conv1d(128, 128, kernel_size=(3,), stride=(1,), padding=(2,), dilation=(2,))\n",
       "      (4): Conv1d(128, 128, kernel_size=(3,), stride=(1,), padding=(2,), dilation=(2,))\n",
       "      (5): Conv1d(128, 128, kernel_size=(3,), stride=(1,), padding=(2,), dilation=(2,))\n",
       "      (6): Conv1d(128, 128, kernel_size=(3,), stride=(1,), padding=(2,), dilation=(2,))\n",
       "    )\n",
       "    (bns): ModuleList(\n",
       "      (0): BatchNorm1d(128, eps=1e-05, momentum=0.1, affine=True, track_running_stats=True)\n",
       "      (1): BatchNorm1d(128, eps=1e-05, momentum=0.1, affine=True, track_running_stats=True)\n",
       "      (2): BatchNorm1d(128, eps=1e-05, momentum=0.1, affine=True, track_running_stats=True)\n",
       "      (3): BatchNorm1d(128, eps=1e-05, momentum=0.1, affine=True, track_running_stats=True)\n",
       "      (4): BatchNorm1d(128, eps=1e-05, momentum=0.1, affine=True, track_running_stats=True)\n",
       "      (5): BatchNorm1d(128, eps=1e-05, momentum=0.1, affine=True, track_running_stats=True)\n",
       "      (6): BatchNorm1d(128, eps=1e-05, momentum=0.1, affine=True, track_running_stats=True)\n",
       "    )\n",
       "    (conv3): Conv1d(1024, 1024, kernel_size=(1,), stride=(1,))\n",
       "    (bn3): BatchNorm1d(1024, eps=1e-05, momentum=0.1, affine=True, track_running_stats=True)\n",
       "    (relu): ReLU()\n",
       "    (se): SEModule(\n",
       "      (se): Sequential(\n",
       "        (0): AdaptiveAvgPool1d(output_size=1)\n",
       "        (1): Conv1d(1024, 128, kernel_size=(1,), stride=(1,))\n",
       "        (2): ReLU()\n",
       "        (3): Conv1d(128, 1024, kernel_size=(1,), stride=(1,))\n",
       "        (4): Sigmoid()\n",
       "      )\n",
       "    )\n",
       "  )\n",
       "  (layer2): Bottle2neck(\n",
       "    (conv1): Conv1d(1024, 1024, kernel_size=(1,), stride=(1,))\n",
       "    (bn1): BatchNorm1d(1024, eps=1e-05, momentum=0.1, affine=True, track_running_stats=True)\n",
       "    (convs): ModuleList(\n",
       "      (0): Conv1d(128, 128, kernel_size=(3,), stride=(1,), padding=(3,), dilation=(3,))\n",
       "      (1): Conv1d(128, 128, kernel_size=(3,), stride=(1,), padding=(3,), dilation=(3,))\n",
       "      (2): Conv1d(128, 128, kernel_size=(3,), stride=(1,), padding=(3,), dilation=(3,))\n",
       "      (3): Conv1d(128, 128, kernel_size=(3,), stride=(1,), padding=(3,), dilation=(3,))\n",
       "      (4): Conv1d(128, 128, kernel_size=(3,), stride=(1,), padding=(3,), dilation=(3,))\n",
       "      (5): Conv1d(128, 128, kernel_size=(3,), stride=(1,), padding=(3,), dilation=(3,))\n",
       "      (6): Conv1d(128, 128, kernel_size=(3,), stride=(1,), padding=(3,), dilation=(3,))\n",
       "    )\n",
       "    (bns): ModuleList(\n",
       "      (0): BatchNorm1d(128, eps=1e-05, momentum=0.1, affine=True, track_running_stats=True)\n",
       "      (1): BatchNorm1d(128, eps=1e-05, momentum=0.1, affine=True, track_running_stats=True)\n",
       "      (2): BatchNorm1d(128, eps=1e-05, momentum=0.1, affine=True, track_running_stats=True)\n",
       "      (3): BatchNorm1d(128, eps=1e-05, momentum=0.1, affine=True, track_running_stats=True)\n",
       "      (4): BatchNorm1d(128, eps=1e-05, momentum=0.1, affine=True, track_running_stats=True)\n",
       "      (5): BatchNorm1d(128, eps=1e-05, momentum=0.1, affine=True, track_running_stats=True)\n",
       "      (6): BatchNorm1d(128, eps=1e-05, momentum=0.1, affine=True, track_running_stats=True)\n",
       "    )\n",
       "    (conv3): Conv1d(1024, 1024, kernel_size=(1,), stride=(1,))\n",
       "    (bn3): BatchNorm1d(1024, eps=1e-05, momentum=0.1, affine=True, track_running_stats=True)\n",
       "    (relu): ReLU()\n",
       "    (se): SEModule(\n",
       "      (se): Sequential(\n",
       "        (0): AdaptiveAvgPool1d(output_size=1)\n",
       "        (1): Conv1d(1024, 128, kernel_size=(1,), stride=(1,))\n",
       "        (2): ReLU()\n",
       "        (3): Conv1d(128, 1024, kernel_size=(1,), stride=(1,))\n",
       "        (4): Sigmoid()\n",
       "      )\n",
       "    )\n",
       "  )\n",
       "  (layer3): Bottle2neck(\n",
       "    (conv1): Conv1d(1024, 1024, kernel_size=(1,), stride=(1,))\n",
       "    (bn1): BatchNorm1d(1024, eps=1e-05, momentum=0.1, affine=True, track_running_stats=True)\n",
       "    (convs): ModuleList(\n",
       "      (0): Conv1d(128, 128, kernel_size=(3,), stride=(1,), padding=(4,), dilation=(4,))\n",
       "      (1): Conv1d(128, 128, kernel_size=(3,), stride=(1,), padding=(4,), dilation=(4,))\n",
       "      (2): Conv1d(128, 128, kernel_size=(3,), stride=(1,), padding=(4,), dilation=(4,))\n",
       "      (3): Conv1d(128, 128, kernel_size=(3,), stride=(1,), padding=(4,), dilation=(4,))\n",
       "      (4): Conv1d(128, 128, kernel_size=(3,), stride=(1,), padding=(4,), dilation=(4,))\n",
       "      (5): Conv1d(128, 128, kernel_size=(3,), stride=(1,), padding=(4,), dilation=(4,))\n",
       "      (6): Conv1d(128, 128, kernel_size=(3,), stride=(1,), padding=(4,), dilation=(4,))\n",
       "    )\n",
       "    (bns): ModuleList(\n",
       "      (0): BatchNorm1d(128, eps=1e-05, momentum=0.1, affine=True, track_running_stats=True)\n",
       "      (1): BatchNorm1d(128, eps=1e-05, momentum=0.1, affine=True, track_running_stats=True)\n",
       "      (2): BatchNorm1d(128, eps=1e-05, momentum=0.1, affine=True, track_running_stats=True)\n",
       "      (3): BatchNorm1d(128, eps=1e-05, momentum=0.1, affine=True, track_running_stats=True)\n",
       "      (4): BatchNorm1d(128, eps=1e-05, momentum=0.1, affine=True, track_running_stats=True)\n",
       "      (5): BatchNorm1d(128, eps=1e-05, momentum=0.1, affine=True, track_running_stats=True)\n",
       "      (6): BatchNorm1d(128, eps=1e-05, momentum=0.1, affine=True, track_running_stats=True)\n",
       "    )\n",
       "    (conv3): Conv1d(1024, 1024, kernel_size=(1,), stride=(1,))\n",
       "    (bn3): BatchNorm1d(1024, eps=1e-05, momentum=0.1, affine=True, track_running_stats=True)\n",
       "    (relu): ReLU()\n",
       "    (se): SEModule(\n",
       "      (se): Sequential(\n",
       "        (0): AdaptiveAvgPool1d(output_size=1)\n",
       "        (1): Conv1d(1024, 128, kernel_size=(1,), stride=(1,))\n",
       "        (2): ReLU()\n",
       "        (3): Conv1d(128, 1024, kernel_size=(1,), stride=(1,))\n",
       "        (4): Sigmoid()\n",
       "      )\n",
       "    )\n",
       "  )\n",
       "  (layer4): Conv1d(3072, 1536, kernel_size=(1,), stride=(1,))\n",
       "  (attention): Sequential(\n",
       "    (0): Conv1d(4608, 256, kernel_size=(1,), stride=(1,))\n",
       "    (1): ReLU()\n",
       "    (2): BatchNorm1d(256, eps=1e-05, momentum=0.1, affine=True, track_running_stats=True)\n",
       "    (3): Tanh()\n",
       "    (4): Conv1d(256, 1536, kernel_size=(1,), stride=(1,))\n",
       "    (5): Softmax(dim=2)\n",
       "  )\n",
       "  (bn5): BatchNorm1d(3072, eps=1e-05, momentum=0.1, affine=True, track_running_stats=True)\n",
       "  (fc6): Linear(in_features=3072, out_features=192, bias=True)\n",
       "  (bn6): BatchNorm1d(192, eps=1e-05, momentum=0.1, affine=True, track_running_stats=True)\n",
       ")"
      ]
     },
     "execution_count": 6,
     "metadata": {},
     "output_type": "execute_result"
    }
   ],
   "source": [
    "device = torch.device(\"cuda:0\" if torch.cuda.is_available() else \"cpu\")\n",
    "print(device)\n",
    "speaker_encoder.to(device)\n",
    "speaker_encoder.eval()"
   ]
  },
  {
   "cell_type": "code",
   "execution_count": 7,
   "metadata": {},
   "outputs": [],
   "source": [
    "speaker_encoder.eval()\n",
    "\n",
    "test_path = \"../../data/MSV_CommonVoice_data/vi/clips/\"\n",
    "\n",
    "f_read = open(\"../../data/Test/test_list.tsv\")\n",
    "f_write = open(\"../../output/result.tsv\", \"w\")\n",
    "\n",
    "lines = f_read.readlines()\n",
    "f_read.close()\n",
    "\n",
    "for line in lines:\n",
    "    file_1, file_2 = line.strip().split(\"\\t\")\n",
    "\n",
    "    audio_1, _  = soundfile.read(os.path.join(test_path, file_1))\n",
    "    data_1 = torch.FloatTensor(np.stack([audio_1],axis=0)).to(device)\n",
    "\n",
    "    audio_2, _  = soundfile.read(os.path.join(test_path, file_2))\n",
    "    data_2 = torch.FloatTensor(np.stack([audio_2],axis=0)).to(device)\n",
    "\n",
    "    with torch.no_grad():\n",
    "        embedding_1 = speaker_encoder.forward(data_1, aug=False)\n",
    "        embedding_1 = F.normalize(embedding_1, p=2, dim=1)\n",
    "        embedding_2 = speaker_encoder.forward(data_2, aug=False)\n",
    "        embedding_2 = F.normalize(embedding_2, p=2, dim=1)\n",
    "\n",
    "    score = CosineSimilarity()(embedding_1, embedding_2)\n",
    "\n",
    "    f_write.write(file_1 + \"\\t\" + file_2 + \"\\t\" + str(score.item()) + \"\\n\")\n",
    "\n",
    "f_write.close()"
   ]
  },
  {
   "cell_type": "markdown",
   "metadata": {},
   "source": [
    "# Evaluation"
   ]
  },
  {
   "cell_type": "code",
   "execution_count": 8,
   "metadata": {},
   "outputs": [],
   "source": [
    "# Create eval_list.tsv\n",
    "with open(\"../../data/Test/eval_list.tsv\", 'w') as f_write:\n",
    "    f_write.writelines([\"1\\tcommon_voice_vi_24476184.wav\\tcommon_voice_vi_24388665.wav\\n\", \"0\\tcommon_voice_vi_23926783.wav\\tcommon_voice_vi_23847785.wav\\n\"])"
   ]
  },
  {
   "cell_type": "code",
   "execution_count": 9,
   "metadata": {},
   "outputs": [
    {
     "name": "stdout",
     "output_type": "stream",
     "text": [
      "09-23 10:44:12 Model para number = 14.73\n"
     ]
    }
   ],
   "source": [
    "ecapa_model = ECAPAModel(0.01, 0.97, 1024, 96, 0.2, 30, 1)\n",
    "ecapa_model.speaker_encoder = speaker_encoder"
   ]
  },
  {
   "cell_type": "code",
   "execution_count": 10,
   "metadata": {},
   "outputs": [],
   "source": [
    "eval_list = \"../../data/Test/eval_list.tsv\"\n",
    "eval_path = \"../../data/MSV_CommonVoice_data/vi/clips/\""
   ]
  },
  {
   "cell_type": "code",
   "execution_count": 11,
   "metadata": {},
   "outputs": [
    {
     "name": "stderr",
     "output_type": "stream",
     "text": [
      "100%|██████████| 4/4 [00:00<00:00, 30.46it/s]\n"
     ]
    },
    {
     "data": {
      "text/plain": [
       "(0.0, 0.0)"
      ]
     },
     "execution_count": 11,
     "metadata": {},
     "output_type": "execute_result"
    }
   ],
   "source": [
    "ecapa_model.eval_network(eval_list, eval_path)"
   ]
  },
  {
   "cell_type": "code",
   "execution_count": null,
   "metadata": {},
   "outputs": [],
   "source": []
  }
 ],
 "metadata": {
  "kernelspec": {
   "display_name": "Python 3.8.13 ('amsv')",
   "language": "python",
   "name": "python3"
  },
  "language_info": {
   "codemirror_mode": {
    "name": "ipython",
    "version": 3
   },
   "file_extension": ".py",
   "mimetype": "text/x-python",
   "name": "python",
   "nbconvert_exporter": "python",
   "pygments_lexer": "ipython3",
   "version": "3.8.13"
  },
  "orig_nbformat": 4,
  "vscode": {
   "interpreter": {
    "hash": "d8c510213b9c254c6efb665fded14bddb11801c938cadb9c9c4360f5ae25d832"
   }
  }
 },
 "nbformat": 4,
 "nbformat_minor": 2
}
