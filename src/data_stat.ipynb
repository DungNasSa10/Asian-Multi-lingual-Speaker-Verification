{
 "cells": [
  {
   "cell_type": "code",
   "execution_count": 1,
   "metadata": {},
   "outputs": [],
   "source": [
    "import os\n",
    "import pandas as pd"
   ]
  },
  {
   "cell_type": "code",
   "execution_count": 2,
   "metadata": {},
   "outputs": [
    {
     "name": "stdout",
     "output_type": "stream",
     "text": [
      "9\n"
     ]
    }
   ],
   "source": [
    "metadata_rootpath = \"../data/MSV_CommonVoice_data/metadata\"\n",
    "language_metadata_paths = os.listdir(metadata_rootpath)\n",
    "print(len(language_metadata_paths))"
   ]
  },
  {
   "cell_type": "code",
   "execution_count": 3,
   "metadata": {},
   "outputs": [
    {
     "name": "stdout",
     "output_type": "stream",
     "text": [
      "train_list_ja.txt\n",
      "train_list_ta.txt\n",
      "train_list_uz.txt\n",
      "train_list_hi.txt\n",
      "train_list_vi.txt\n",
      "train_list_fr.txt\n",
      "train_list_zh-CN.txt\n",
      "train_list_th.txt\n",
      "train_list_en.txt\n"
     ]
    }
   ],
   "source": [
    "for language_metadata in language_metadata_paths:\n",
    "    print(language_metadata)"
   ]
  },
  {
   "cell_type": "code",
   "execution_count": 4,
   "metadata": {},
   "outputs": [],
   "source": [
    "def data_statistic(metadata_rootpath: str, result_path: str):\n",
    "    abbrev2lan = {\"en\": \"English\", \"fr\": \"French\", \"hi\": \"Hindi\", \"ja\": \"Japanese\", \"ta\": \"Tamil\", \"th\": \"Thai\", \"uz\": \"Uzbekistan\", \"vi\": \"Vietnameese\", \"zh-CN\": \"Chinese\"}\n",
    "    language_metadata_paths = os.listdir(metadata_rootpath)\n",
    "    languages_stat = [] # list of languages stat\n",
    "\n",
    "    for language_metadata_path in language_metadata_paths:\n",
    "        language_abbrev = language_metadata_path[11:][:-4]\n",
    "        language = abbrev2lan[language_abbrev]\n",
    "        language_stat_dict = {} # dict of (speaker_id, language) as key and [wav_paths] as value\n",
    "        language_stat_list = [] # list of (speaker_id, language, #utterance, [wav_paths])\n",
    "\n",
    "        with open(metadata_rootpath + \"/\" + language_metadata_path) as f_read:\n",
    "            lines = f_read.readlines()\n",
    "            for line in lines:\n",
    "                speaker_id, wav_path = line.strip().split(\"\\t\")\n",
    "                if language_stat_dict.get((speaker_id, language)) == None:\n",
    "                    language_stat_dict[(speaker_id, language)] = [wav_path]\n",
    "                else:\n",
    "                    language_stat_dict[(speaker_id, language)].append(wav_path)\n",
    "            for speaker_id, language in language_stat_dict.keys():\n",
    "                wav_paths = language_stat_dict[(speaker_id, language)]\n",
    "                language_stat_list.append((speaker_id, language, len(wav_paths), wav_paths))\n",
    "        languages_stat.extend(language_stat_list)\n",
    "    \n",
    "    languages_stat = sorted(languages_stat, key=lambda x: (x[1], x[2], x[0]))\n",
    "    stat_df = pd.DataFrame(languages_stat, columns=[\"Speaker ID\", \"Language\", \"#Utterances\", \"Wav paths\"])\n",
    "    stat_df.to_csv(result_path, index=False)\n",
    "\n",
    "    return stat_df"
   ]
  },
  {
   "cell_type": "code",
   "execution_count": 5,
   "metadata": {},
   "outputs": [],
   "source": [
    "data_stat_df = data_statistic(\"../data/MSV_CommonVoice_data/metadata\", \"../output/data_stat.csv\")"
   ]
  },
  {
   "cell_type": "code",
   "execution_count": 6,
   "metadata": {},
   "outputs": [],
   "source": [
    "stat_df = pd.DataFrame(data_stat_df, columns=[\"Speaker ID\", \"Language\", \"#Utterances\", \"Wav paths\"])"
   ]
  },
  {
   "cell_type": "code",
   "execution_count": 7,
   "metadata": {},
   "outputs": [
    {
     "data": {
      "text/html": [
       "<div>\n",
       "<style scoped>\n",
       "    .dataframe tbody tr th:only-of-type {\n",
       "        vertical-align: middle;\n",
       "    }\n",
       "\n",
       "    .dataframe tbody tr th {\n",
       "        vertical-align: top;\n",
       "    }\n",
       "\n",
       "    .dataframe thead th {\n",
       "        text-align: right;\n",
       "    }\n",
       "</style>\n",
       "<table border=\"1\" class=\"dataframe\">\n",
       "  <thead>\n",
       "    <tr style=\"text-align: right;\">\n",
       "      <th></th>\n",
       "      <th>Speaker ID</th>\n",
       "      <th>Language</th>\n",
       "      <th>#Utterances</th>\n",
       "      <th>Wav paths</th>\n",
       "    </tr>\n",
       "  </thead>\n",
       "  <tbody>\n",
       "    <tr>\n",
       "      <th>0</th>\n",
       "      <td>02ec74191c6ccc7dcf6ecaa217268263c477273b4de93f...</td>\n",
       "      <td>Chinese</td>\n",
       "      <td>1</td>\n",
       "      <td>[common_voice_zh-CN_22069600.wav]</td>\n",
       "    </tr>\n",
       "    <tr>\n",
       "      <th>1</th>\n",
       "      <td>0431cf00d4491b99a93700d7aa0b1948a057b2c162a620...</td>\n",
       "      <td>Chinese</td>\n",
       "      <td>1</td>\n",
       "      <td>[common_voice_zh-CN_22006851.wav]</td>\n",
       "    </tr>\n",
       "    <tr>\n",
       "      <th>2</th>\n",
       "      <td>04742f27bccab99619bd4ec3f256b36c639afd058c8664...</td>\n",
       "      <td>Chinese</td>\n",
       "      <td>1</td>\n",
       "      <td>[common_voice_zh-CN_22115132.wav]</td>\n",
       "    </tr>\n",
       "    <tr>\n",
       "      <th>3</th>\n",
       "      <td>0648def3862cbb968eec23fad967f50e35fc8e0eea67b4...</td>\n",
       "      <td>Chinese</td>\n",
       "      <td>1</td>\n",
       "      <td>[common_voice_zh-CN_22120171.wav]</td>\n",
       "    </tr>\n",
       "    <tr>\n",
       "      <th>4</th>\n",
       "      <td>0697ece1f99a08477906d0f3b4e74e1d6ffca76c20a7db...</td>\n",
       "      <td>Chinese</td>\n",
       "      <td>1</td>\n",
       "      <td>[common_voice_zh-CN_18646658.wav]</td>\n",
       "    </tr>\n",
       "  </tbody>\n",
       "</table>\n",
       "</div>"
      ],
      "text/plain": [
       "                                          Speaker ID Language  #Utterances  \\\n",
       "0  02ec74191c6ccc7dcf6ecaa217268263c477273b4de93f...  Chinese            1   \n",
       "1  0431cf00d4491b99a93700d7aa0b1948a057b2c162a620...  Chinese            1   \n",
       "2  04742f27bccab99619bd4ec3f256b36c639afd058c8664...  Chinese            1   \n",
       "3  0648def3862cbb968eec23fad967f50e35fc8e0eea67b4...  Chinese            1   \n",
       "4  0697ece1f99a08477906d0f3b4e74e1d6ffca76c20a7db...  Chinese            1   \n",
       "\n",
       "                           Wav paths  \n",
       "0  [common_voice_zh-CN_22069600.wav]  \n",
       "1  [common_voice_zh-CN_22006851.wav]  \n",
       "2  [common_voice_zh-CN_22115132.wav]  \n",
       "3  [common_voice_zh-CN_22120171.wav]  \n",
       "4  [common_voice_zh-CN_18646658.wav]  "
      ]
     },
     "execution_count": 7,
     "metadata": {},
     "output_type": "execute_result"
    }
   ],
   "source": [
    "stat_df.head()"
   ]
  },
  {
   "cell_type": "code",
   "execution_count": 8,
   "metadata": {},
   "outputs": [
    {
     "data": {
      "text/plain": [
       "(17864, 4)"
      ]
     },
     "execution_count": 8,
     "metadata": {},
     "output_type": "execute_result"
    }
   ],
   "source": [
    "stat_df.shape"
   ]
  },
  {
   "cell_type": "code",
   "execution_count": 9,
   "metadata": {},
   "outputs": [
    {
     "data": {
      "text/html": [
       "<div>\n",
       "<style scoped>\n",
       "    .dataframe tbody tr th:only-of-type {\n",
       "        vertical-align: middle;\n",
       "    }\n",
       "\n",
       "    .dataframe tbody tr th {\n",
       "        vertical-align: top;\n",
       "    }\n",
       "\n",
       "    .dataframe thead th {\n",
       "        text-align: right;\n",
       "    }\n",
       "</style>\n",
       "<table border=\"1\" class=\"dataframe\">\n",
       "  <thead>\n",
       "    <tr style=\"text-align: right;\">\n",
       "      <th></th>\n",
       "      <th>#Utterances</th>\n",
       "    </tr>\n",
       "  </thead>\n",
       "  <tbody>\n",
       "    <tr>\n",
       "      <th>count</th>\n",
       "      <td>17864.000000</td>\n",
       "    </tr>\n",
       "    <tr>\n",
       "      <th>mean</th>\n",
       "      <td>33.439431</td>\n",
       "    </tr>\n",
       "    <tr>\n",
       "      <th>std</th>\n",
       "      <td>473.867425</td>\n",
       "    </tr>\n",
       "    <tr>\n",
       "      <th>min</th>\n",
       "      <td>1.000000</td>\n",
       "    </tr>\n",
       "    <tr>\n",
       "      <th>25%</th>\n",
       "      <td>3.000000</td>\n",
       "    </tr>\n",
       "    <tr>\n",
       "      <th>50%</th>\n",
       "      <td>5.000000</td>\n",
       "    </tr>\n",
       "    <tr>\n",
       "      <th>75%</th>\n",
       "      <td>10.000000</td>\n",
       "    </tr>\n",
       "    <tr>\n",
       "      <th>max</th>\n",
       "      <td>44728.000000</td>\n",
       "    </tr>\n",
       "  </tbody>\n",
       "</table>\n",
       "</div>"
      ],
      "text/plain": [
       "        #Utterances\n",
       "count  17864.000000\n",
       "mean      33.439431\n",
       "std      473.867425\n",
       "min        1.000000\n",
       "25%        3.000000\n",
       "50%        5.000000\n",
       "75%       10.000000\n",
       "max    44728.000000"
      ]
     },
     "execution_count": 9,
     "metadata": {},
     "output_type": "execute_result"
    }
   ],
   "source": [
    "stat_df.describe()"
   ]
  },
  {
   "cell_type": "code",
   "execution_count": 10,
   "metadata": {},
   "outputs": [
    {
     "name": "stdout",
     "output_type": "stream",
     "text": [
      "108\n",
      "[2 3 4]\n"
     ]
    }
   ],
   "source": [
    "# Check if a speaker speaks multiple languages\n",
    "speaker_multi_lan_df = stat_df.groupby(\"Speaker ID\")[\"Language\"].nunique().reset_index()\n",
    "speaker_multi_lan_df = speaker_multi_lan_df[speaker_multi_lan_df[\"Language\"] > 1]\n",
    "print(len(speaker_multi_lan_df))\n",
    "print(speaker_multi_lan_df[\"Language\"].unique())"
   ]
  },
  {
   "cell_type": "code",
   "execution_count": 11,
   "metadata": {},
   "outputs": [
    {
     "data": {
      "text/html": [
       "<div>\n",
       "<style scoped>\n",
       "    .dataframe tbody tr th:only-of-type {\n",
       "        vertical-align: middle;\n",
       "    }\n",
       "\n",
       "    .dataframe tbody tr th {\n",
       "        vertical-align: top;\n",
       "    }\n",
       "\n",
       "    .dataframe thead th {\n",
       "        text-align: right;\n",
       "    }\n",
       "</style>\n",
       "<table border=\"1\" class=\"dataframe\">\n",
       "  <thead>\n",
       "    <tr style=\"text-align: right;\">\n",
       "      <th></th>\n",
       "      <th>Language</th>\n",
       "      <th>Speaker ID</th>\n",
       "      <th>#Utterances</th>\n",
       "    </tr>\n",
       "  </thead>\n",
       "  <tbody>\n",
       "    <tr>\n",
       "      <th>6</th>\n",
       "      <td>Thai</td>\n",
       "      <td>5515</td>\n",
       "      <td>126058</td>\n",
       "    </tr>\n",
       "    <tr>\n",
       "      <th>1</th>\n",
       "      <td>English</td>\n",
       "      <td>3975</td>\n",
       "      <td>100991</td>\n",
       "    </tr>\n",
       "    <tr>\n",
       "      <th>0</th>\n",
       "      <td>Chinese</td>\n",
       "      <td>3716</td>\n",
       "      <td>45160</td>\n",
       "    </tr>\n",
       "    <tr>\n",
       "      <th>2</th>\n",
       "      <td>French</td>\n",
       "      <td>2495</td>\n",
       "      <td>90035</td>\n",
       "    </tr>\n",
       "    <tr>\n",
       "      <th>7</th>\n",
       "      <td>Uzbekistan</td>\n",
       "      <td>901</td>\n",
       "      <td>79704</td>\n",
       "    </tr>\n",
       "    <tr>\n",
       "      <th>5</th>\n",
       "      <td>Tamil</td>\n",
       "      <td>475</td>\n",
       "      <td>112919</td>\n",
       "    </tr>\n",
       "    <tr>\n",
       "      <th>4</th>\n",
       "      <td>Japanese</td>\n",
       "      <td>465</td>\n",
       "      <td>29447</td>\n",
       "    </tr>\n",
       "    <tr>\n",
       "      <th>3</th>\n",
       "      <td>Hindi</td>\n",
       "      <td>226</td>\n",
       "      <td>9189</td>\n",
       "    </tr>\n",
       "    <tr>\n",
       "      <th>8</th>\n",
       "      <td>Vietnameese</td>\n",
       "      <td>96</td>\n",
       "      <td>3859</td>\n",
       "    </tr>\n",
       "  </tbody>\n",
       "</table>\n",
       "</div>"
      ],
      "text/plain": [
       "      Language  Speaker ID  #Utterances\n",
       "6         Thai        5515       126058\n",
       "1      English        3975       100991\n",
       "0      Chinese        3716        45160\n",
       "2       French        2495        90035\n",
       "7   Uzbekistan         901        79704\n",
       "5        Tamil         475       112919\n",
       "4     Japanese         465        29447\n",
       "3        Hindi         226         9189\n",
       "8  Vietnameese          96         3859"
      ]
     },
     "execution_count": 11,
     "metadata": {},
     "output_type": "execute_result"
    }
   ],
   "source": [
    "# Check the number of speaker and utterances per language\n",
    "speaker_utterance_per_lan = stat_df.groupby(\"Language\")[\"Speaker ID\"].nunique().reset_index()\n",
    "speaker_utterance_per_lan[\"#Utterances\"] = stat_df.groupby(\"Language\")[\"#Utterances\"].sum().reset_index()[\"#Utterances\"]\n",
    "speaker_utterance_per_lan.sort_values([\"Speaker ID\", \"#Utterances\"], ascending=False)"
   ]
  },
  {
   "cell_type": "code",
   "execution_count": null,
   "metadata": {},
   "outputs": [],
   "source": []
  }
 ],
 "metadata": {
  "kernelspec": {
   "display_name": "Python 3.8.0 64-bit",
   "language": "python",
   "name": "python3"
  },
  "language_info": {
   "codemirror_mode": {
    "name": "ipython",
    "version": 3
   },
   "file_extension": ".py",
   "mimetype": "text/x-python",
   "name": "python",
   "nbconvert_exporter": "python",
   "pygments_lexer": "ipython3",
   "version": "3.8.0"
  },
  "orig_nbformat": 4,
  "vscode": {
   "interpreter": {
    "hash": "df0893f56f349688326838aaeea0de204df53a132722cbd565e54b24a8fec5f6"
   }
  }
 },
 "nbformat": 4,
 "nbformat_minor": 2
}
